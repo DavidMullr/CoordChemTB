{
 "cells": [
  {
   "cell_type": "markdown",
   "id": "7b9e43d0",
   "metadata": {},
   "source": [
    "# **COORDCHEMTB Project**\n",
    "\n",
    "_David Muller, Adrian Miramontes, Duc Huy Nguyen_\n",
    "\n",
    "### **Introduction**\n",
    "\n",
    "Coordination chemistry focuses on the study of coordination compounds/coordination complexes. These compounds consist of a central metal atom or ion bonded to surrounding molecules or ions that are called ligands.\n",
    "\n",
    "The metal–ligand bonds can be formed through coordinate covalent bonds, where the ligand donates a pair of electrons to the metal center. This branch of chemistry plays a fundamental role in fields such as bioinorganic chemistry, catalysis, material science, and medicine.\n",
    "\n",
    "Key concepts in coordination chemistry that we are going to use include:\n",
    "- **Ligand Types**: Monodentate (one donor atom), bidentate (two), and polydentate ligands (important for correct drawing of complexes).\n",
    "- **Geometries**: Common spatial arrangements such as octahedral, tetrahedral, and square planar.\n",
    "- **Crystal Field Theory**: A model used to describe the splitting of d-orbital energies in different ligand environments.\n",
    "- **Metal center oxidation state**: Important informatiom used to calculate the total complex charg\n",
    "- **...**\n",
    "\n",
    "\n",
    "### **Project**\n",
    "\n",
    "Our project gives the choice to the user to open an interactive window or use the core.py to visualize a selected coordination complex, compute orbital splitting diagrams as well as the CFSE energy and give important informations about metals and ligands properties. To be able to visualize these complexes, their splitting diagrams and specific ligand/metal properties  is particularly useful for chemistry students.\n",
    "\n",
    "### **Functions**\n"
   ]
  },
  {
   "cell_type": "markdown",
   "id": "596bb9b0",
   "metadata": {},
   "source": [
    "## generalligands.py\n",
    "\n",
    "This script downloads ligand SDF files from RCSB and enriches them with metadata including SMILES, denticity, and spectrochemical field strength (Δ) which is either estimated on basis of donor atoms of the molecules or direcly hard coded for spectrochemical ligands. It also generates missing ligand entries and combines all into a single `all_ligands.sdf` file for use across the project."
   ]
  },
  {
   "cell_type": "code",
   "execution_count": 11,
   "id": "df60780a",
   "metadata": {},
   "outputs": [
    {
     "name": "stdout",
     "output_type": "stream",
     "text": [
      "^C\n"
     ]
    }
   ],
   "source": [
    "\n",
    "!python ../src/CoordChenTB/generalligands.py\n",
    "#FOR SOME REASON THIS WON'T SIMPLY RUN THE CODE PLEASE SIMPLY RUN THE generalligands.py CODE WHICH WILL GENERATE ALL LIGANDS SDF FILES AND ENRICHE THEM\n",
    "\n",
    "\n"
   ]
  },
  {
   "cell_type": "markdown",
   "id": "85e6355c",
   "metadata": {},
   "source": [
    "## complexorbitalssplitting.py\n",
    "\n",
    "This module analyzes a metal-ligand complex's geometry and oxidation state to compute d-electron count, predict spin state, and plot a crystal field splitting diagram with estimated CFSE values. It can also directly give splitting diagrams of d1 through d10 complexes with given delta oct values if the file is run on its own."
   ]
  },
  {
   "cell_type": "code",
   "execution_count": null,
   "id": "b8536fdc",
   "metadata": {},
   "outputs": [
    {
     "name": "stdout",
     "output_type": "stream",
     "text": [
      "\n",
      "📉 CFSE (High-spin): -8000 cm⁻¹\n",
      "🔁 Extra pairing penalty: 17000 cm⁻¹ (1 extra pairs)\n",
      "📉 Total CFSE: -25000 cm⁻¹ (≈ -299.0 kJ/mol)\n"
     ]
    },
    {
     "data": {
      "image/png": "[encoded data removed]",
      "text/plain": [
       "<Figure size 600x500 with 1 Axes>"
      ]
     },
     "metadata": {},
     "output_type": "display_data"
    }
   ],
   "source": [
    "\n",
    "import sys, os\n",
    "\n",
    "sys.path.insert(0, os.path.abspath(os.path.join(os.getcwd(), '..', 'src')))\n",
    "from CoordChenTB.utils import complexorbitalssplitting as orbital\n",
    "orbital.plot_cf(6, 20000, 'High-spin', 'octahedral', '3d')\n",
    "\n",
    "#The code complexorbitalssplitting.py is interactive by itself you can launch it to test different complexes or directly test d1 through d10 high spin/low spin splitting diagrams.\n"
   ]
  },
  {
   "cell_type": "markdown",
   "id": "c2f45676",
   "metadata": {},
   "source": [
    "## complexdrawerfinal.py\n",
    "\n",
    "**Complexdrawerfinal.py** is a function which by using the metals_db database and our sdf files can draw coordination complexes in three geometries: octahedral, tetrahedral and square planar, and the used complexes can be monodentate or bidentate. It also determines the optimal geometry for complexes automatically if run by itself and calculates the total complex charge to display it on the drawn image."
   ]
  },
  {
   "cell_type": "code",
   "execution_count": null,
   "id": "e69cc2db",
   "metadata": {},
   "outputs": [
    {
     "name": "stderr",
     "output_type": "stream",
     "text": [
      "[02:49:53] WARNING: not removing hydrogen atom without neighbors\n",
      "[02:49:53] WARNING: not removing hydrogen atom without neighbors\n",
      "[02:49:55] WARNING: not removing hydrogen atom without neighbors\n",
      "[02:49:55] WARNING: not removing hydrogen atom without neighbors\n"
     ]
    }
   ],
   "source": [
    "import sys, os\n",
    "sys.path.insert(0, os.path.abspath(os.path.join(os.getcwd(), '..', 'src')))\n",
    "from CoordChenTB.utils import complexdrawerfinal as drawer\n",
    "\n",
    "from CoordChenTB.utils.complexdrawerfinal import create_complex_from_ligand_dict\n",
    "\n",
    "\n",
    "img = create_complex_from_ligand_dict(\n",
    "    metal=\"Fe\",\n",
    "    ligand_counts={\"py\": 4}, \n",
    "    geometry=\"square_planar\",\n",
    "    oxidation_state=2,\n",
    "    bond_length=1.2,\n",
    "    output_file=\"complex.png\"\n",
    ")\n",
    "\n",
    "\n",
    "img = create_complex_from_ligand_dict(\n",
    "    metal=\"Zn\",\n",
    "    ligand_counts={\"phen\": 3}, \n",
    "    geometry=\"octahedral\",\n",
    "    oxidation_state=2,\n",
    "    bond_length=1.2,\n",
    "    output_file=\"complex.png\"\n",
    ")\n",
    "\n",
    "#Run the sample of this code right here and an image of a complex will be made for you. The actual full code can estimate the geometry of the complex directly and doesn't ask for geometry\n",
    "#To fully test the code you can simply launch complexdrawerfinal.py on itself it is interactive in the terminal"
   ]
  },
  {
   "cell_type": "markdown",
   "id": "1e292076",
   "metadata": {},
   "source": [
    "## metalandligandsinfo.py\n",
    "\n",
    "Provides lookup tools for both metals and ligands, retrieving spectrochemical data, oxidation states, donor atoms, and confidence levels. Used in both CLI (core.py) and GUI (interfacefinalversion.py) interfaces for quick reference."
   ]
  },
  {
   "cell_type": "code",
   "execution_count": 20,
   "id": "092cc191",
   "metadata": {},
   "outputs": [
    {
     "name": "stdout",
     "output_type": "stream",
     "text": [
      "\n",
      "🧲 Metal: Fe\n",
      "----------------------------------------\n",
      "symbol              : Fe\n",
      "atomic_number       : 26\n",
      "block               : 3d\n",
      "smiles              : [Fe]\n",
      "atomic_weight       : 55.845\n",
      "oxidation_states    : [2, 3]\n"
     ]
    }
   ],
   "source": [
    "import sys, os\n",
    "sys.path.insert(0, os.path.abspath(os.path.join(os.getcwd(), '..', 'src')))\n",
    "from CoordChenTB.utils import metalandligandsinfo as info\n",
    "\n",
    "\n",
    "info.print_metal_info(\"Fe\")\n",
    "\n",
    "#To further try the function you can again just launch the py file so metalandligandsinfo.py which is interactive (it even has fuzzy correction as most files when a ligand is typed wrong)\n",
    "\n"
   ]
  },
  {
   "cell_type": "markdown",
   "id": "0f71ec59",
   "metadata": {},
   "source": [
    "## metals_db.py\n",
    "\n",
    "This file defines the `METALS` list containing dictionaries for all relevant metal centers. Each entry has properties like symbol, atomic number, oxidation states, and RDKit SMILES. It is then used in several of the files as a database (in some of the files the list was just paster to avoid having to use relative imports when these files were called in other files)."
   ]
  },
  {
   "cell_type": "code",
   "execution_count": null,
   "id": "37dee86f",
   "metadata": {},
   "outputs": [
    {
     "name": "stdout",
     "output_type": "stream",
     "text": [
      "{'symbol': 'Sc', 'atomic_number': 21, 'block': '3d', 'smiles': '[Sc]', 'atomic_weight': 44.956, 'oxidation_states': [3]}\n",
      "{'symbol': 'Ti', 'atomic_number': 22, 'block': '3d', 'smiles': '[Ti]', 'atomic_weight': 47.867, 'oxidation_states': [2, 3, 4]}\n",
      "{'symbol': 'V', 'atomic_number': 23, 'block': '3d', 'smiles': '[V]', 'atomic_weight': 50.942, 'oxidation_states': [2, 3, 4, 5]}\n",
      "{'symbol': 'Cr', 'atomic_number': 24, 'block': '3d', 'smiles': '[Cr]', 'atomic_weight': 51.996, 'oxidation_states': [2, 3, 6]}\n",
      "{'symbol': 'Mn', 'atomic_number': 25, 'block': '3d', 'smiles': '[Mn]', 'atomic_weight': 54.938, 'oxidation_states': [2, 4, 7]}\n"
     ]
    }
   ],
   "source": [
    "import sys, os\n",
    "sys.path.insert(0, os.path.abspath(os.path.join(os.getcwd(), '..', 'src')))\n",
    "\n",
    "from CoordChenTB.utils.metals_db import METALS\n",
    "\n",
    "for m in METALS[:5]:\n",
    "    print(m)\n",
    "#To see full detabase you can just check metals_db.py in utils"
   ]
  },
  {
   "cell_type": "markdown",
   "id": "a4fcbb94",
   "metadata": {},
   "source": [
    "## test_all.py\n",
    "\n",
    "This file contains unit tests and is triggered automatically via GitHub Actions (`.github/workflows/tests.yml`) on every push or pull request. It ensures core functionalities work as expected by running a few test scenarios across modules. To run it by yourself you can simply write \"pytest\" in the git bash of the repository on your computer. "
   ]
  },
  {
   "cell_type": "markdown",
   "id": "ac088541",
   "metadata": {},
   "source": [
    "## core.py\n",
    "\n",
    "This is a command-line interface (CLI) that connects all functional parts of the toolbox : ligand generation, complex visualization, orbital splitting analysis and easy to retrive metal/ligands infos."
   ]
  },
  {
   "cell_type": "code",
   "execution_count": null,
   "id": "50cba9bc",
   "metadata": {},
   "outputs": [
    {
     "name": "stdout",
     "output_type": "stream",
     "text": [
      "^C\n"
     ]
    }
   ],
   "source": [
    "!python ../src/CoordChenTB/core.py\n",
    "#FOR SOME REASON THIS WON'T SIMPLY RUN THE CODE PLEASE SIMPLY RUN THE core.py\n",
    "#This code is just the core of the project so it fuses all functionalities together you can launch it by itself again it is \n",
    "#interactive and basically assembles complexorbitalssplitting.py, complexdrawerfinal.py and metalandligandsinfo.py and we \n",
    "#tried directly integrating a launch of interfacefinalversion.py but it did not work (you will see it when running this file)"
   ]
  },
  {
   "cell_type": "markdown",
   "id": "4ece8ab7",
   "metadata": {},
   "source": [
    "## interfacefinalversion.py\n",
    "\n",
    "This is the GUI entry point for the project. Running `interfacefinalversion.py` launches a Tkinter-based app with tabs for:\n",
    "- Complex Builder\n",
    "- Orbital Splitting Analysis\n",
    "- Metal & Ligand Info Lookup\n",
    "\n",
    "It provides a user-friendly way to explore coordination chemistry visually."
   ]
  },
  {
   "cell_type": "code",
   "execution_count": 26,
   "id": "955a2bdf",
   "metadata": {},
   "outputs": [
    {
     "name": "stderr",
     "output_type": "stream",
     "text": [
      "[03:10:19] WARNING: not removing hydrogen atom without neighbors\n",
      "[03:10:19] WARNING: not removing hydrogen atom without neighbors\n"
     ]
    }
   ],
   "source": [
    "!python ../src/CoordChenTB/utils/interfacefinalversion.py\n",
    "#Opens the GUI you can fully explore its functionalites which are the same as core.py so a fusion of the functionalites of our previous functions\n"
   ]
  }
 ],
 "metadata": {
  "kernelspec": {
   "display_name": "base",
   "language": "python",
   "name": "python3"
  },
  "language_info": {
   "codemirror_mode": {
    "name": "ipython",
    "version": 3
   },
   "file_extension": ".py",
   "mimetype": "text/x-python",
   "name": "python",
   "nbconvert_exporter": "python",
   "pygments_lexer": "ipython3",
   "version": "3.12.3"
  }
 },
 "nbformat": 4,
 "nbformat_minor": 5
}
