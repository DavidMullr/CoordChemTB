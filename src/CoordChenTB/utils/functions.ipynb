{
 "cells": [
  {
   "cell_type": "markdown",
   "id": "ec7d05e4",
   "metadata": {},
   "source": [
    "metals_db.py auto-generates a database containing metals as well as useful information about them for coordination chemistry; It is a list of dictionaries with symbol, smiles, atomic_weight, oxidation_states."
   ]
  },
  {
   "cell_type": "code",
   "execution_count": 1,
   "id": "df934e87",
   "metadata": {},
   "outputs": [],
   "source": [
    "METALS = [\n",
    "    {'symbol': 'Sc', 'smiles': '[Sc]', 'atomic_weight': 44.956, 'oxidation_states': [3]},\n",
    "    {'symbol': 'Ti', 'smiles': '[Ti]', 'atomic_weight': 47.867, 'oxidation_states': [2, 3, 4]},\n",
    "    {'symbol': 'V', 'smiles': '[V]', 'atomic_weight': 50.942, 'oxidation_states': [2, 3, 4, 5]},\n",
    "    {'symbol': 'Cr', 'smiles': '[Cr]', 'atomic_weight': 51.996, 'oxidation_states': [2, 3, 6]},\n",
    "    {'symbol': 'Mn', 'smiles': '[Mn]', 'atomic_weight': 54.938, 'oxidation_states': [2, 4, 7]},\n",
    "    {'symbol': 'Fe', 'smiles': '[Fe]', 'atomic_weight': 55.845, 'oxidation_states': [2, 3]},\n",
    "    {'symbol': 'Co', 'smiles': '[Co]', 'atomic_weight': 58.933, 'oxidation_states': [2, 3]},\n",
    "    {'symbol': 'Ni', 'smiles': '[Ni]', 'atomic_weight': 58.693, 'oxidation_states': [2, 3]},\n",
    "    {'symbol': 'Cu', 'smiles': '[Cu]', 'atomic_weight': 63.546, 'oxidation_states': [1, 2]},\n",
    "    {'symbol': 'Zn', 'smiles': '[Zn]', 'atomic_weight': 65.38, 'oxidation_states': [2]},\n",
    "    {'symbol': 'Y', 'smiles': '[Y]', 'atomic_weight': 88.906, 'oxidation_states': [3]},\n",
    "    {'symbol': 'Zr', 'smiles': '[Zr]', 'atomic_weight': 91.224, 'oxidation_states': [2, 3, 4]},\n",
    "    {'symbol': 'Nb', 'smiles': '[Nb]', 'atomic_weight': 92.906, 'oxidation_states': [3, 5]},\n",
    "    {'symbol': 'Mo', 'smiles': '[Mo]', 'atomic_weight': 95.95, 'oxidation_states': [2, 3, 4, 6]},\n",
    "    {'symbol': 'Ru', 'smiles': '[Ru]', 'atomic_weight': 101.07, 'oxidation_states': [2, 3, 4, 6, 8]},\n",
    "    {'symbol': 'Rh', 'smiles': '[Rh]', 'atomic_weight': 102.906, 'oxidation_states': [3]},\n",
    "    {'symbol': 'Pd', 'smiles': '[Pd]', 'atomic_weight': 106.42, 'oxidation_states': [2, 4]},\n",
    "    {'symbol': 'Ag', 'smiles': '[Ag]', 'atomic_weight': 107.868, 'oxidation_states': [1]},\n",
    "    {'symbol': 'Cd', 'smiles': '[Cd]', 'atomic_weight': 112.414, 'oxidation_states': [2]},\n",
    "    {'symbol': 'Hf', 'smiles': '[Hf]', 'atomic_weight': 178.49, 'oxidation_states': [4]},\n",
    "    {'symbol': 'W', 'smiles': '[W]', 'atomic_weight': 183.84, 'oxidation_states': [2, 3, 4, 5, 6]},\n",
    "    {'symbol': 'Re', 'smiles': '[Re]', 'atomic_weight': 186.207, 'oxidation_states': [4, 7]},\n",
    "    {'symbol': 'Os', 'smiles': '[Os]', 'atomic_weight': 190.23, 'oxidation_states': [2, 3, 4, 6, 8]},\n",
    "    {'symbol': 'Ir', 'smiles': '[Ir]', 'atomic_weight': 192.217, 'oxidation_states': [3, 4, 6]},\n",
    "    {'symbol': 'Pt', 'smiles': '[Pt]', 'atomic_weight': 195.084, 'oxidation_states': [2, 4]},\n",
    "    {'symbol': 'Au', 'smiles': '[Au]', 'atomic_weight': 196.967, 'oxidation_states': [1, 3]},\n",
    "    {'symbol': 'Hg', 'smiles': '[Hg]', 'atomic_weight': 200.592, 'oxidation_states': [1, 2]},\n",
    "    {'symbol': 'La', 'smiles': '[La]', 'atomic_weight': 138.905, 'oxidation_states': [3]},\n",
    "    {'symbol': 'Ce', 'smiles': '[Ce]', 'atomic_weight': 140.116, 'oxidation_states': [3, 4]},\n",
    "    {'symbol': 'Sm', 'smiles': '[Sm]', 'atomic_weight': 150.36, 'oxidation_states': [2, 3]},\n",
    "    {'symbol': 'Eu', 'smiles': '[Eu]', 'atomic_weight': 151.964, 'oxidation_states': [2, 3]},\n",
    "    {'symbol': 'Gd', 'smiles': '[Gd]', 'atomic_weight': 157.25, 'oxidation_states': [3]},\n",
    "    {'symbol': 'Tb', 'smiles': '[Tb]', 'atomic_weight': 158.925, 'oxidation_states': [3, 4]},\n",
    "    {'symbol': 'Dy', 'smiles': '[Dy]', 'atomic_weight': 162.5, 'oxidation_states': [3]},\n",
    "    {'symbol': 'Er', 'smiles': '[Er]', 'atomic_weight': 167.259, 'oxidation_states': [3]},\n",
    "    {'symbol': 'Yb', 'smiles': '[Yb]', 'atomic_weight': 173.045, 'oxidation_states': [2, 3]},\n",
    "    {'symbol': 'Th', 'smiles': '[Th]', 'atomic_weight': 232.038, 'oxidation_states': [4]},\n",
    "    {'symbol': 'U', 'smiles': '[U]', 'atomic_weight': 238.029, 'oxidation_states': [3, 4, 5, 6]},\n",
    "]\n"
   ]
  },
  {
   "cell_type": "markdown",
   "id": "55f81e3b",
   "metadata": {},
   "source": [
    "metalsdb_maker.py is a dictionary of metals commonly used in coordination compounds and their atomic weight as well as their common oxidation states. It also creates a list named METALS contianing the symbol, smiles, atomic weight and oxidation state of the corresponding metal by using the data from the dictionary. It also emits the python module by generating the database containing the list of metals."
   ]
  },
  {
   "cell_type": "code",
   "execution_count": 2,
   "id": "8b59ecf4",
   "metadata": {},
   "outputs": [
    {
     "name": "stdout",
     "output_type": "stream",
     "text": [
      "Generated metals_db.py with 38 coordination-relevant metals.\n"
     ]
    }
   ],
   "source": [
    "# Dictionary of metals commonly used in coordination compounds\n",
    "metal_data = {\n",
    "    'Sc': {'atomic_weight': 44.956,  'oxidation_states': [3]},\n",
    "    'Ti': {'atomic_weight': 47.867,  'oxidation_states': [2, 3, 4]},\n",
    "    'V':  {'atomic_weight': 50.942,  'oxidation_states': [2, 3, 4, 5]},\n",
    "    'Cr': {'atomic_weight': 51.996,  'oxidation_states': [2, 3, 6]},\n",
    "    'Mn': {'atomic_weight': 54.938,  'oxidation_states': [2, 4, 7]},\n",
    "    'Fe': {'atomic_weight': 55.845,  'oxidation_states': [2, 3]},\n",
    "    'Co': {'atomic_weight': 58.933,  'oxidation_states': [2, 3]},\n",
    "    'Ni': {'atomic_weight': 58.693,  'oxidation_states': [2, 3]},\n",
    "    'Cu': {'atomic_weight': 63.546,  'oxidation_states': [1, 2]},\n",
    "    'Zn': {'atomic_weight': 65.38,   'oxidation_states': [2]},\n",
    "    'Y':  {'atomic_weight': 88.906,  'oxidation_states': [3]},\n",
    "    'Zr': {'atomic_weight': 91.224,  'oxidation_states': [2, 3, 4]},\n",
    "    'Nb': {'atomic_weight': 92.906,  'oxidation_states': [3, 5]},\n",
    "    'Mo': {'atomic_weight': 95.95,   'oxidation_states': [2, 3, 4, 6]},\n",
    "    'Ru': {'atomic_weight': 101.07,  'oxidation_states': [2, 3, 4, 6, 8]},\n",
    "    'Rh': {'atomic_weight': 102.906, 'oxidation_states': [3]},\n",
    "    'Pd': {'atomic_weight': 106.42,  'oxidation_states': [2, 4]},\n",
    "    'Ag': {'atomic_weight': 107.868, 'oxidation_states': [1]},\n",
    "    'Cd': {'atomic_weight': 112.414, 'oxidation_states': [2]},\n",
    "    'Hf': {'atomic_weight': 178.49,  'oxidation_states': [4]},\n",
    "    'W':  {'atomic_weight': 183.84,  'oxidation_states': [2, 3, 4, 5, 6]},\n",
    "    'Re': {'atomic_weight': 186.207, 'oxidation_states': [4, 7]},\n",
    "    'Os': {'atomic_weight': 190.23,  'oxidation_states': [2, 3, 4, 6, 8]},\n",
    "    'Ir': {'atomic_weight': 192.217, 'oxidation_states': [3, 4, 6]},\n",
    "    'Pt': {'atomic_weight': 195.084, 'oxidation_states': [2, 4]},\n",
    "    'Au': {'atomic_weight': 196.967, 'oxidation_states': [1, 3]},\n",
    "    'Hg': {'atomic_weight': 200.592, 'oxidation_states': [1, 2]},\n",
    "    # Lanthanides frequently used as coordination centers\n",
    "    'La': {'atomic_weight': 138.905, 'oxidation_states': [3]},\n",
    "    'Ce': {'atomic_weight': 140.116, 'oxidation_states': [3, 4]},\n",
    "    'Sm': {'atomic_weight': 150.36,  'oxidation_states': [2, 3]},\n",
    "    'Eu': {'atomic_weight': 151.964, 'oxidation_states': [2, 3]},\n",
    "    'Gd': {'atomic_weight': 157.25,  'oxidation_states': [3]},\n",
    "    'Tb': {'atomic_weight': 158.925, 'oxidation_states': [3, 4]},\n",
    "    'Dy': {'atomic_weight': 162.5,   'oxidation_states': [3]},\n",
    "    'Er': {'atomic_weight': 167.259, 'oxidation_states': [3]},\n",
    "    'Yb': {'atomic_weight': 173.045, 'oxidation_states': [2, 3]},\n",
    "    # Actinides often in coordination compounds\n",
    "    'Th': {'atomic_weight': 232.038, 'oxidation_states': [4]},\n",
    "    'U':  {'atomic_weight': 238.029, 'oxidation_states': [3, 4, 5, 6]}\n",
    "}\n",
    "\n",
    "# Build the METALS list\n",
    "METALS = []\n",
    "for symbol, props in metal_data.items():\n",
    "    METALS.append({\n",
    "        'symbol': symbol,\n",
    "        'smiles': f'[{symbol}]',\n",
    "        'atomic_weight': props['atomic_weight'],\n",
    "        'oxidation_states': props['oxidation_states']\n",
    "    })\n",
    "\n",
    "# Emit the Python module\n",
    "with open('metals_db.py', 'w') as out:\n",
    "    out.write('# Auto-generated metals database for coordination chemistry\\n')\n",
    "    out.write('# Contains METALS: list of dicts with symbol, smiles, atomic_weight, oxidation_states\\n\\n')\n",
    "    out.write('METALS = [\\n')\n",
    "    for m in METALS:\n",
    "        out.write(f'    {m!r},\\n')\n",
    "    out.write(']\\n')\n",
    "\n",
    "print(f\"Generated metals_db.py with {len(METALS)} coordination-relevant metals.\")\n"
   ]
  }
 ],
 "metadata": {
  "kernelspec": {
   "display_name": "ppchem",
   "language": "python",
   "name": "python3"
  },
  "language_info": {
   "codemirror_mode": {
    "name": "ipython",
    "version": 3
   },
   "file_extension": ".py",
   "mimetype": "text/x-python",
   "name": "python",
   "nbconvert_exporter": "python",
   "pygments_lexer": "ipython3",
   "version": "3.10.16"
  }
 },
 "nbformat": 4,
 "nbformat_minor": 5
}
